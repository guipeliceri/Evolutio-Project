{
  "cells": [
    {
      "cell_type": "markdown",
      "metadata": {
        "id": "view-in-github",
        "colab_type": "text"
      },
      "source": [
        "<a href=\"https://colab.research.google.com/github/guipeliceri/Evolutio-Project/blob/main/01-Cancer_Diagnosis/Cancer_Diagnosis.ipynb\" target=\"_parent\"><img src=\"https://colab.research.google.com/assets/colab-badge.svg\" alt=\"Open In Colab\"/></a>"
      ]
    },
    {
      "cell_type": "markdown",
      "source": [
        "**01 - Cancer Diagnosis**\n",
        "\n",
        "Bem vindos a nossa primeira atividade do projeto!\n",
        "A tarefa é auxiliar na detecção de cânceres de mama.\n",
        "\n",
        "Nosso objetivo é construir e treinar um \"cérebro\" artificial (uma rede neural) que aprenderá a partir de dados de exames reais. Ao final, este cérebro será capaz de analisar as características de um tumor e prever se ele é maligno (cancerígeno) ou benigno (não cancerígeno).\n",
        "\n",
        "Vamos começar!\n",
        "\n",
        "\n",
        "---\n",
        "\n",
        "**CRÉDITOS**: O código utilizado vem do usuário\n",
        "GitHub: https://github.com/KhanradCoder\n",
        "\n",
        "E seu vídeo explicativo: https://www.youtube.com/watch?v=z1PGJ9quPV8\n",
        "\n",
        "\n",
        "---\n",
        "\n",
        "**Passo 1: Carregando Nossos Dados** 📂\n",
        "- Na pasta dessa primeira atividade há o arquivo cancer.csv, abra-o e clique em \"Download Raw File\" na parte superior\n",
        "- Aqui dentro da página do Colab, clique no ícone de pasta \"File\" e clique no botão \"Upload to session storage\"\n",
        "\n",
        "Com os dados inseridos, agora podemos manipulá-los! Tudo começa com os dados. Nesses dados, cada linha representa um tumor e cada coluna uma característica medida (raio, textura, etc.).\n",
        "\n",
        "---\n",
        "\n",
        "**Passo 2: Criando o Dataset**\n"
      ],
      "metadata": {
        "id": "hKT8lOWwvnUw"
      },
      "id": "hKT8lOWwvnUw"
    },
    {
      "cell_type": "code",
      "source": [
        "import pandas as pd\n",
        "\n",
        "dataset = pd.read_csv('cancer.csv')"
      ],
      "metadata": {
        "id": "7hNier8H59Dr"
      },
      "id": "7hNier8H59Dr",
      "execution_count": 1,
      "outputs": []
    },
    {
      "cell_type": "markdown",
      "source": [
        "*import pandas as pd*\n",
        "\n",
        "- O que ela faz? Ela importa uma \"biblioteca\" (uma caixa de ferramentas de código) chamada *pandas* para o nosso ambiente de trabalho.\n",
        "\n",
        "- A biblioteca *pandas* é a ferramenta mais famosa e poderosa do Python para manipulação e análise de dados. Ela nos permite ler, limpar, transformar e entender dados de forma eficiente, especialmente dados em formato de tabela, como os de uma planilha do Excel.\n",
        "- *as pd* é um apelido (em inglês, alias). Programadores gostam de ser eficientes. Em vez de escrever *pandas* toda vez que precisarmos usar uma de suas ferramentas, a comunidade global de Python concordou em usar o apelido *pd*\n",
        "\n",
        "Analogia: a biblioteca *pandas* é uma caixa de ferramentas e *pd* é um apelido para da caixa de ferramentas, para acharmos as ferramentas mais facilmente\n",
        "\n",
        "---\n",
        "\n",
        "*dataset = pd.read_csv('cancer.csv')*\n",
        "- O que ela faz? Esta linha lê o arquivo cancer.csv e carrega todo o seu conteúdo para dentro de uma variável chamada dataset.\n",
        "- pd.read_csv(...): Aqui estamos usando a ferramenta *read_csv* da nossa caixa pd. O nome é autoexplicativo: ela é especializada em ler arquivos CSV (Comma-Separated Values), que é o formato de planilha mais comum do mundo, onde os valores são separados por vírgulas. No caso, ele está lendo *cancer.csv*\n",
        "- dataset =: O resultado da leitura não pode ficar solto. Nós o \"guardamos\" ou \"atribuímos\" a uma variável chamada dataset. Agora, a variável dataset contém todos os dados do arquivo, organizados em uma estrutura de tabela super poderosa que o pandas chama de DataFrame.\n",
        "\n",
        "---\n",
        "\n",
        "**Passo 3: Separando X e Y**"
      ],
      "metadata": {
        "id": "w0BRu3GP6A4w"
      },
      "id": "w0BRu3GP6A4w"
    },
    {
      "cell_type": "code",
      "source": [
        "x = dataset.drop(columns=[\"diagnosis(1=m, 0=b)\"])\n",
        "\n",
        "y = dataset[\"diagnosis(1=m, 0=b)\"]"
      ],
      "metadata": {
        "id": "pGhmzLtT8sxj"
      },
      "id": "pGhmzLtT8sxj",
      "execution_count": 2,
      "outputs": []
    },
    {
      "cell_type": "markdown",
      "source": [
        "*x = dataset.drop(columns=[\"diagnosis(1=m, 0=b)\"])*\n",
        "\n",
        "- O que ela faz: Ela cria uma nova tabela, chamada x, que é uma cópia de todo o dataset original, EXCETO pela coluna do diagnóstico.\n",
        "- Como ela faz isso: Usamos a função *.drop()* do pandas, que serve para remover linhas ou colunas.\n",
        "- columns=[\"...\"]: Especificamos que queremos remover uma coluna (e não uma linha) e passamos o nome exato da coluna a ser removida: \"diagnosis(1=m, 0=b)\".\n",
        "\n",
        "No jargão de Machine Learning, x é a nossa matriz de features (evidências)\n",
        "\n",
        "---\n",
        "\n",
        "*y = dataset[\"diagnosis(1=m, 0=b)\"]*\n",
        "Esta linha cria a nossa variável y.\n",
        "\n",
        "- O que ela faz: Ela cria uma nova variável, chamada y, que contém APENAS a coluna do diagnóstico e mais nada.\n",
        "- Como ela faz isso: *dataset[\"...\"]:* Esta é a sintaxe do pandas para selecionar uma ou mais colunas específicas. Ao passar o nome da coluna \"diagnosis(1=m, 0=b)\", estamos dizendo: \"Do meu dataset inteiro, me dê apenas esta coluna.\"\n",
        "\n",
        "No jargão de Machine Learning, y é o nosso vetor alvo (resposta)\n",
        "\n",
        "---\n",
        "\n",
        " **Por que fazemos essa separação?**\n",
        "\n",
        " Este é o conceito central do Aprendizado Supervisionado\n",
        "\n",
        "Nós queremos treinar nosso modelo de Inteligência Artificial para que ele aprenda a prever y (o diagnóstico) a partir de x (as evidências).\n",
        "\n",
        "Para fazer isso, nós damos ao modelo as duas coisas durante o treinamento:\n",
        "\n",
        "As evidências (x)\n",
        "As respostas corretas para essas evidências (y)\n",
        "E dizemos ao modelo: \"Olhe para estas evidências e para estas respostas. Encontre os padrões. Aprenda a relação entre x e y para que, no futuro, quando eu te der um x novo que você nunca viu, você consiga me dizer qual é o y correto.\"\n",
        "\n",
        "---\n",
        "\n",
        "**Passo 4: Dividir dados para o treinamento e o teste**"
      ],
      "metadata": {
        "id": "7OdNA5W-Aini"
      },
      "id": "7OdNA5W-Aini"
    },
    {
      "cell_type": "code",
      "source": [
        "from sklearn.model_selection import train_test_split\n",
        "\n",
        "x_train, x_test, y_train, y_test = train_test_split(x, y, test_size=0.2)"
      ],
      "metadata": {
        "id": "a9D0hzMnEYMK"
      },
      "id": "a9D0hzMnEYMK",
      "execution_count": 3,
      "outputs": []
    },
    {
      "cell_type": "markdown",
      "source": [
        "*from sklearn.model_selection import train_test_split*\n",
        "\n",
        "- O que ela faz: Ela importa para o nosso código a função específica train_test_split de dentro da gigantesca biblioteca scikit-learn.\n",
        "- O que é a biblioteca scikit-learn: Se o pandas é a nossa caixa de ferramentas para manipular dados, o scikit-learn (apelido sklearn) é a nossa caixa de ferramentas para fazer Machine Learning. É com essa biblioteca que os algoritmos de Aprendizado de Máquina atuam no projeto, buscando padrões nos dados por exemplo\n",
        "\n",
        "---\n",
        "*x_train, x_test, y_train, y_test = train_test_split(x, y, test_size=0.2)*\n",
        "\n",
        "\n",
        "\n",
        "**Lógica**\n",
        "\n",
        "Imagine que você vai dar uma prova para um aluno. Se você entregar as perguntas da prova para ele estudar, ele vai decorar as respostas e tirar 10. Mas ele realmente aprendeu a matéria? Não. Ele apenas memorizou.\n",
        "\n",
        "Com a IA, é a mesma coisa.\n",
        "\n",
        "Se treinarmos e testarmos nosso modelo com os mesmos dados, ele pode simplesmente \"decorar\" as respostas. Ele teria uma performance de 100%, mas seria inútil no mundo real com dados novos. Isso se chama **overfitting**.\n",
        "Ao usar o conjunto de treino (x_train, y_train), nós deixamos nosso modelo estudar e aprender os padrões.\n",
        "Depois que ele está treinado, nós o desafiamos com a prova final (x_test), dados que ele nunca viu antes.\n",
        "Só então comparamos as previsões dele com o gabarito oficial (y_test) para ver se ele realmente aprendeu e generalizou o conhecimento, ou se apenas decorou.\n",
        "\n",
        "Assim:\n",
        "\n",
        "- train_test_split(...): Estamos chamando a função que acabamos de importar.\n",
        "(x, y, ...): Os primeiros argumentos são os dados que queremos dividir: nossa tabela de evidências x e nosso gabarito y.\n",
        "- test_size=0.2: Este é o parâmetro mais importante aqui. Estamos dizendo à função para reservar 20% (0.2) dos dados para o conjunto de teste. Consequentemente, os outros 80% serão usados para o conjunto de treino. (Essa proporção 80/20 é um padrão muito comum).\n",
        "- x_train, x_test, y_train, y_test =: A função train_test_split é especial porque ela não devolve apenas uma, mas quatro coisas, nesta ordem exata:\n",
        "-- x_train: Material de Estudo (Perguntas). Contém 80% das evidências (x).\n",
        "-- x_test: Prova Final (Perguntas). Contém os 20% restantes das evidências (x).\n",
        "-- y_train: Gabarito do Material de Estudo (Respostas). Contém os diagnósticos corretos para o x_train.\n",
        "-- y_test: Gabarito da Prova Final (Respostas). Contém os diagnósticos corretos para o x_test.\n",
        "<br>\n",
        "<br>\n",
        "A função garante que a linha 10 de x_train corresponde à linha 10 de y_train, e assim por diante.\n",
        "\n",
        "---\n",
        "\n",
        "**Passo 5: Vamos prweparar o treino da nossa IA!**"
      ],
      "metadata": {
        "id": "FFqUm1SAE-Sx"
      },
      "id": "FFqUm1SAE-Sx"
    },
    {
      "cell_type": "code",
      "source": [
        "import tensorflow as tf\n",
        "\n",
        "model = tf.keras.models.Sequential()"
      ],
      "metadata": {
        "id": "PUjlWEkfJBVn"
      },
      "id": "PUjlWEkfJBVn",
      "execution_count": 4,
      "outputs": []
    },
    {
      "cell_type": "markdown",
      "source": [
        "Ótimo! Chegamos na parte da construção, o momento em que realmente começamos a montar a nossa Inteligência Artificial\n",
        "\n",
        "*import tensorflow as tf*\n",
        "\n",
        "Esta linha é sobre pegar a caixa de ferramentas mais poderosa da nossa oficina.\n",
        "\n",
        "- O que ela faz: Ela importa a biblioteca *TensorFlow* para o nosso projeto.\n",
        "- Por que TensorFlow: Se o *pandas* era a nossa caixa de ferramentas para arrumar os dados, e o *scikit-learn* para tarefas gerais de Machine Learning, o *TensorFlow* é a nossa oficina de engenharia pesada, especializada em construir e treinar \"cérebros\" artificiais, as famosas Redes Neurais. É uma das ferramentas mais utilizadas no mundo para Deep Learning, criada pelo Google.\n",
        "- Por que as *tf*: Bom, acho que você já deve saber, certo? Sim, é apenas outro apelido dado para a biblioteca, assim como *pd* do *pandas*\n",
        "\n",
        "---\n",
        "\n",
        "*model = tf.keras.models.Sequential()*\n",
        "\n",
        "- O que ela faz: Esta linha cria o \"esqueleto\" ou a \"base\" do nosso modelo de rede neural.\n",
        "- Vamos quebrar em partes:\n",
        "-- tf.keras: Keras é uma API do TensorFlow que funciona como uma interface de \"alto nível\". Em outras palavras, ele torna o processo de construir redes neurais muito mais fácil e intuitivo, como se fosse um conjunto de plantas e moldes pré-fabricados.\n",
        "-- .models.Sequential(): Estamos escolhendo um tipo específico de molde: um modelo Sequencial.\n",
        "-- model = : Estamos guardando este molde vazio em uma variável chamada model.\n",
        "\n",
        "---\n",
        "\n",
        "**O que significa um modelo \"Sequencial\"?**\n",
        "\n",
        "Pense em montar um Lego. Um modelo Sequencial significa que vamos construir nosso cérebro em uma sequência lógica, uma camada de \"tijolos\" de Lego em cima da outra, em uma pilha reta e organizada. É a forma mais simples, comum e direta de se construir uma rede neural.\n",
        "\n",
        " Analogia: A linha* model = tf.keras.models.Sequential()* é como pegar aquela placa de Lego verde, plana e vazia. Ela ainda não tem nenhuma peça, mas é a base sobre a qual vamos começar a empilhar nossos \"tijolos\" (as camadas de neurônios)\n",
        "<br>\n",
        "<br>\n",
        "<br>\n",
        "**Agora, vamos adicionar as camadas de dados da nossa IA (layers)**"
      ],
      "metadata": {
        "id": "KtOQwsXwrEv8"
      },
      "id": "KtOQwsXwrEv8"
    },
    {
      "cell_type": "code",
      "source": [
        "model.add(tf.keras.layers.Dense(256, input_shape=x_train.shape, activation='sigmoid'))\n",
        "model.add(tf.keras.layers.Dense(256, activation='sigmoid'))\n",
        "model.add(tf.keras.layers.Dense(1, activation='sigmoid'))"
      ],
      "metadata": {
        "id": "12WLwCemx9pF",
        "outputId": "44348733-ce3d-4683-9f2f-b3fb66db6201",
        "colab": {
          "base_uri": "https://localhost:8080/"
        }
      },
      "id": "12WLwCemx9pF",
      "execution_count": 5,
      "outputs": [
        {
          "output_type": "stream",
          "name": "stderr",
          "text": [
            "/usr/local/lib/python3.11/dist-packages/keras/src/layers/core/dense.py:87: UserWarning: Do not pass an `input_shape`/`input_dim` argument to a layer. When using Sequential models, prefer using an `Input(shape)` object as the first layer in the model instead.\n",
            "  super().__init__(activity_regularizer=activity_regularizer, **kwargs)\n"
          ]
        }
      ]
    },
    {
      "cell_type": "markdown",
      "source": [
        "Vamos analisar linha por linha, pois cada uma representa uma camada do nosso cérebro artificial.\n",
        "\n",
        "O Conceito-Chave: *model.add(tf.keras.layers.Dense(...))*\n",
        "\n",
        "- model.add(...): Este é o comando para \"adicionar\" uma nova camada ao nosso esqueleto (model). Como nosso modelo é Sequencial, cada add coloca uma nova camada em cima da anterior.\n",
        "- tf.keras.layers.Dense(...): Este é o tipo de camada que estamos adicionando. Uma camada Dense (ou \"densa\") é o tipo mais comum e fundamental. Ela significa que cada neurônio nesta camada está conectado a todos os neurônios da camada anterior. É uma camada \"totalmente conectada\", o que permite que as informações se cruzem e se combinem de forma complexa.\n",
        "\n",
        "---\n",
        "\n",
        "*model.add(tf.keras.layers.Dense(256, input_shape=x_train.shape, activation='sigmoid'))*\n",
        "\n",
        "Esta é a primeira camada que recebe os dados.\n",
        "\n",
        "- Dense(256, ...): O primeiro número, 256, é a quantidade de neurônios (ou nós) que esta camada terá. Pense neles como 256 pequenos \"calculadores\" que trabalharão em paralelo para encontrar padrões. A escolha desse número é uma decisão de design; mais neurônios podem aprender padrões mais complexos, mas também tornam o modelo mais pesado.\n",
        "- input_shape=x_train.shape: Este parâmetro é especial e** usado apenas na primeira camada**. Ele diz ao modelo qual será o formato dos dados de entrada. x_train.shape informa automaticamente o número de colunas (features) que temos, para que o modelo crie as conexões de entrada corretamente.\n",
        "- activation='sigmoid': A função de ativação é como o \"interruptor de intensidade\" de um neurônio. Depois que o neurônio soma todos os sinais que recebe, a função de ativação decide qual será a força do sinal que ele passará para a próxima camada. A sigmoid espreme o resultado em um valor entre 0 e 1.\n",
        "\n",
        "---\n",
        "\n",
        "# Mas por que usamos essa função?\n",
        "\n",
        "**Neurônios recebem sinais de força de outros neurônios anteriores, para basearem suas decisões**\n",
        "\n",
        "Imagine que um neurônio é um segurança na porta de uma balada muito exclusiva.\n",
        "\n",
        "1. Os Sinais que o Neurônio Recebe\n",
        "Antes de você, o segurança, tomar sua decisão, você observa várias coisas sobre o grupo de pessoas que quer entrar. Cada uma dessas \"observações\" é um sinal vindo da camada anterior de neurônios.\n",
        "\n",
        "Sinal 1: A roupa da pessoa (vindo do neurônio_roupa)\n",
        "Sinal 2: A educação da pessoa (vindo do neurônio_educação)\n",
        "Sinal 3: O tom de voz da pessoa (vindo do neurônio_tom_de_voz)\n",
        "Só que para você, o segurança, algumas coisas são mais importantes que outras. A importância que você dá a cada sinal é o \"peso\" daquela conexão.\n",
        "\n",
        "Roupa elegante: Peso +2.0 (muito importante, fator positivo)\n",
        "Educação: Peso +1.5 (importante, fator positivo)\n",
        "Tom de voz alto/agressivo: Peso -3.0 (muito importante, fator negativo)\n",
        "\n",
        "2. O Neurônio Soma Todos os Sinais (A \"Primeira Impressão\")\n",
        "A primeira coisa que o neurônio/segurança faz é juntar todas essas informações para formar uma \"impressão bruta\". Ele multiplica a força de cada sinal pelo seu peso e soma tudo.\n",
        "\n",
        "Digamos que hoje ele recebeu os seguintes sinais:\n",
        "\n",
        "Roupa: 1 (boa) -> 1 * 2.0 = +2.0\n",
        "Educação: 0.8 (ok) -> 0.8 * 1.5 = +1.2\n",
        "Tom de voz: -1.5 (ruim) -> -1.5 * -3.0 = +4.5 (Opa, o tom de voz era ruim, mas como o peso era negativo, um sinal ruim x um peso negativo vira algo positivo na conta final - isso é parte da mágica do aprendizado! Mas vamos simplificar).\n",
        "Vamos imaginar uma soma mais simples:\n",
        "\n",
        "Sinal da roupa (+5)\n",
        "Sinal da educação (+3)\n",
        "Sinal do tom de voz (-10)\n",
        "Soma Bruta Total: 5 + 3 - 10 = -2.\n",
        "\n",
        "Este valor, -2, é o \"placar bruto\" ou a \"soma ponderada\". É a primeira impressão do segurança. Pode ser qualquer número, positivo ou negativo.\n",
        "\n",
        "3. A Função de Ativação (A Decisão Final do Segurança)\n",
        "Agora vem a sua frase: \"a função de ativação decide qual será a força do sinal que ele passará para a próxima camada\".\n",
        "\n",
        "O segurança olhou para o placar bruto de -2. Ele não pode simplesmente gritar \"-2!\" para o segurança da próxima área (a área VIP). Ele precisa traduzir essa impressão em uma decisão clara e padronizada.\n",
        "\n",
        "É aqui que entra a Função de Ativação (o nosso sigmoid). Ela é o livro de regras do segurança.\n",
        "\n",
        "O livro de regras sigmoid diz:\n",
        "\n",
        "\"Qualquer que seja o seu placar bruto, você deve traduzi-lo em um 'nível de permissão' entre 0% e 100% (ou 0 e 1).\"\n",
        "\"Se o placar for muito alto (ex: +50), seu nível de permissão é 100% (valor 1.0).\"\n",
        "\"Se o placar for muito baixo (ex: -40), seu nível de permissão é 0% (valor 0.0).\"\n",
        "\"Se o placar for exatamente 0, seu nível de permissão é 50% (valor 0.5).\"\n",
        "Então, o segurança pega o placar bruto -2 e consulta o livro de regras da Sigmoid. O resultado de sigmoid(-2) é aproximadamente 0,12.\n",
        "\n",
        "Conclusão: O Sinal que Ele Passa Adiante\n",
        "A \"força do sinal\" que este neurônio/segurança passa para a próxima camada é 0,12.\n",
        "\n",
        "Ele não passou o placar bruto de -2.\n",
        "Ele passou uma decisão normalizada e padronizada: \"Meu nível de entusiasmo/permissão para este grupo é de 12%\".\n",
        "Os neurônios da próxima camada receberão este sinal de \"12% de força\" e o usarão em seus próprios cálculos para tomar suas próprias decisões.\n",
        "\n",
        "É assim que a informação flui e é transformada através da rede: cada neurônio recebe múltiplos sinais, faz uma soma ponderada para ter uma \"impressão bruta\" e, em seguida, usa sua função de ativação para decidir com que \"intensidade\" (um valor entre 0 e 1, no caso da Sigmoid) ele vai passar essa informação adiante.\n",
        "\n",
        "---\n",
        "\n",
        "*model.add(tf.keras.layers.Dense(256, activation='sigmoid'))*\n",
        "\n",
        "Esta é a nossa segunda camada, que recebe os sinais da primeira.\n",
        "\n",
        "Dense(256, ...): Novamente, estamos usando 256 neurônios para continuar processando a informação.\n",
        "Sem input_shape: Note que não precisamos mais dizer o formato da entrada. O Keras é inteligente e já sabe que esta camada receberá os 256 sinais da camada anterior.\n",
        "activation='sigmoid': Continuamos usando a mesma função de ativação.\n",
        "\n",
        "\n",
        "---\n",
        "\n",
        "*model.add(tf.keras.layers.Dense(1, activation='sigmoid'))*\n",
        "\n",
        "Esta é a camada final e mais importante para a nossa resposta. Diferente das outras camadas, ela não é oculta, é ela que chamamos de resposta, e precisamos ver a resposta não é?\n",
        "\n",
        "- Dense(1, ...): Note que aqui temos apenas 1 neurônio. Por quê? Porque nosso problema é de classificação binária. Queremos uma única resposta: a probabilidade do tumor ser maligno (1) ou benigno (0). Um único neurônio é suficiente para nos dar essa única saída.\n",
        "- activation='sigmoid': Aqui, a função sigmoid é a escolha perfeita para a camada de saída. Como ela sempre resulta em um valor entre 0 e 1, podemos interpretar diretamente a saída do nosso modelo como uma probabilidade.\n",
        "Se o modelo cuspir 0.95, ele está 95% confiante de que o diagnóstico é '1' (maligno).\n",
        "Se ele cuspir 0.02, ele está 2% confiante de que é '1' (ou seja, 98% confiante de que é '0', benigno).\n",
        "\n",
        "---\n",
        "\n",
        "# Mas como saber quantos neurônios vamos usar no código?\n",
        "\n",
        "Essa é uma pergunta de milhões nos códigos de IA! A resposta é depende. Depende do problema que você quer resolver.\n",
        "\n",
        "Vamos analisar isso ao longo das aulas\n",
        "\n",
        "---\n",
        "\n",
        "**Temos a arquitetura montada, mas como ela vai aprender?**"
      ],
      "metadata": {
        "id": "DZ-ceZ5m0ltK"
      },
      "id": "DZ-ceZ5m0ltK"
    },
    {
      "cell_type": "code",
      "source": [
        "model.compile(optimizer='adam', loss='binary_crossentropy', metrics=['accuracy'])"
      ],
      "metadata": {
        "id": "lEcwBVF_Coos"
      },
      "id": "lEcwBVF_Coos",
      "execution_count": 6,
      "outputs": []
    },
    {
      "cell_type": "markdown",
      "source": [
        "*model.compile(optimizer='adam', loss='binary_crossentropy', metrics=['accuracy'])*\n",
        "\n",
        "Vamos quebrar cada um desses três \"parâmetros\":\n",
        "\n",
        "1. *optimizer='adam':* **O GPS para Encontrar a Melhor Resposta**\n",
        "- O que é um optimizer (otimizador)? É o método que o modelo usará para ajustar seus \"pesos\" internos e melhorar suas previsões. A cada resposta errada, o otimizador calcula em qual direção e com que intensidade ele deve ajustar seus neurônios para errar menos na próxima vez.\n",
        "- Analogia: Imagine que o seu modelo está no topo de uma montanha nebulosa e o objetivo é chegar ao ponto mais baixo do vale (o ponto de menor erro). O otimizador é o seu GPS ou Waze. Ele te diz \"dê um passo para a esquerda... agora um passo um pouco maior para frente...\" para te guiar até o fundo do vale da forma mais eficiente possível.\n",
        "- Por que 'adam'? Adam é um  dos otimizadores mais populares e eficientes que existem. Ele é adaptativo, o que significa que ele ajusta a \"velocidade\" do aprendizado conforme avança. É uma escolha padrão excelente, como usar o Waze em vez de um mapa de papel.\n",
        "---\n",
        "2. *loss='binary_crossentropy':* **A \"Nota\" do Erro do Modelo**\n",
        "- O que é a loss (função de perda)? É a fórmula matemática que calcula o quão \"errado\" o modelo está. Ela compara a previsão do modelo com a resposta correta e gera um número. Quanto maior o número, maior o erro.\n",
        "O único objetivo do modelo durante o treinamento é fazer com que o valor da loss seja o menor possível.\n",
        "- Analogia: Se o otimizador é o GPS, a função de perda é a altitude. O GPS usa a altitude para saber se está subindo ou descendo. O modelo usa a loss para saber se suas previsões estão melhorando ou piorando.\n",
        "Por que 'binary_crossentropy'? O nome parece complicado, mas a ideia é simples. Esta é a função de perda perfeita para classificação binária (0 ou 1), especialmente quando a saída do seu modelo é uma probabilidade (graças à nossa camada final com sigmoid). Ela penaliza severamente o modelo quando ele está muito confiante, mas errado (ex: prever 99% de chance de ser maligno quando na verdade era benigno).\n",
        "---\n",
        "3. *metrics=['accuracy']:* **O Boletim para Nós, Humanos**\n",
        "- O que são metrics (métricas)? São as medidas que nós, os humanos, queremos ver para avaliar o desempenho do modelo. Elas não são usadas pelo modelo para aprender (ele só se importa com a loss), mas são impressas na tela para nos informar sobre o progresso.\n",
        "- Analogia: A loss é a \"dificuldade\" que o aluno sente ao estudar, e ele tenta minimizar essa dificuldade. A accuracy é a nota no boletim que o professor mostra aos pais.\n",
        "- Por que ['accuracy']? Estamos pedindo: \"Além de tentar minimizar a loss, por favor, me mostre também a acurácia (a porcentagem de acertos) a cada etapa do treino\". É a métrica mais intuitiva para entendermos rapidamente se nosso modelo está indo bem.\n",
        "\n",
        "---\n",
        "\n",
        "Mas poxa vida, só escrevemos código e nada acontece...\n",
        "\n",
        "**Passo 6: Finalmente colocamos a IA em ação**\n"
      ],
      "metadata": {
        "id": "4kMmNo9qDENs"
      },
      "id": "4kMmNo9qDENs"
    },
    {
      "cell_type": "code",
      "source": [
        "model.fit(x_train, y_train, epochs=1000)"
      ],
      "metadata": {
        "id": "iCHxSSi9J3AW",
        "outputId": "bc6e8cbf-05a1-4db1-ca23-0fd38f8c98f7",
        "colab": {
          "base_uri": "https://localhost:8080/",
          "height": 426
        }
      },
      "id": "iCHxSSi9J3AW",
      "execution_count": 7,
      "outputs": [
        {
          "output_type": "stream",
          "name": "stdout",
          "text": [
            "Epoch 1/1000\n"
          ]
        },
        {
          "output_type": "error",
          "ename": "ValueError",
          "evalue": "Exception encountered when calling Sequential.call().\n\n\u001b[1mInvalid input shape for input Tensor(\"data:0\", shape=(None, 30), dtype=float32). Expected shape (None, 455, 30), but input has incompatible shape (None, 30)\u001b[0m\n\nArguments received by Sequential.call():\n  • inputs=tf.Tensor(shape=(None, 30), dtype=float32)\n  • training=True\n  • mask=None",
          "traceback": [
            "\u001b[0;31m---------------------------------------------------------------------------\u001b[0m",
            "\u001b[0;31mValueError\u001b[0m                                Traceback (most recent call last)",
            "\u001b[0;32m/tmp/ipython-input-7-3605916656.py\u001b[0m in \u001b[0;36m<cell line: 0>\u001b[0;34m()\u001b[0m\n\u001b[0;32m----> 1\u001b[0;31m \u001b[0mmodel\u001b[0m\u001b[0;34m.\u001b[0m\u001b[0mfit\u001b[0m\u001b[0;34m(\u001b[0m\u001b[0mx_train\u001b[0m\u001b[0;34m,\u001b[0m \u001b[0my_train\u001b[0m\u001b[0;34m,\u001b[0m \u001b[0mepochs\u001b[0m\u001b[0;34m=\u001b[0m\u001b[0;36m1000\u001b[0m\u001b[0;34m)\u001b[0m\u001b[0;34m\u001b[0m\u001b[0;34m\u001b[0m\u001b[0m\n\u001b[0m",
            "\u001b[0;32m/usr/local/lib/python3.11/dist-packages/keras/src/utils/traceback_utils.py\u001b[0m in \u001b[0;36merror_handler\u001b[0;34m(*args, **kwargs)\u001b[0m\n\u001b[1;32m    120\u001b[0m             \u001b[0;31m# To get the full stack trace, call:\u001b[0m\u001b[0;34m\u001b[0m\u001b[0;34m\u001b[0m\u001b[0m\n\u001b[1;32m    121\u001b[0m             \u001b[0;31m# `keras.config.disable_traceback_filtering()`\u001b[0m\u001b[0;34m\u001b[0m\u001b[0;34m\u001b[0m\u001b[0m\n\u001b[0;32m--> 122\u001b[0;31m             \u001b[0;32mraise\u001b[0m \u001b[0me\u001b[0m\u001b[0;34m.\u001b[0m\u001b[0mwith_traceback\u001b[0m\u001b[0;34m(\u001b[0m\u001b[0mfiltered_tb\u001b[0m\u001b[0;34m)\u001b[0m \u001b[0;32mfrom\u001b[0m \u001b[0;32mNone\u001b[0m\u001b[0;34m\u001b[0m\u001b[0;34m\u001b[0m\u001b[0m\n\u001b[0m\u001b[1;32m    123\u001b[0m         \u001b[0;32mfinally\u001b[0m\u001b[0;34m:\u001b[0m\u001b[0;34m\u001b[0m\u001b[0;34m\u001b[0m\u001b[0m\n\u001b[1;32m    124\u001b[0m             \u001b[0;32mdel\u001b[0m \u001b[0mfiltered_tb\u001b[0m\u001b[0;34m\u001b[0m\u001b[0;34m\u001b[0m\u001b[0m\n",
            "\u001b[0;32m/usr/local/lib/python3.11/dist-packages/keras/src/models/functional.py\u001b[0m in \u001b[0;36m_adjust_input_rank\u001b[0;34m(self, flat_inputs)\u001b[0m\n\u001b[1;32m    270\u001b[0m                     \u001b[0madjusted\u001b[0m\u001b[0;34m.\u001b[0m\u001b[0mappend\u001b[0m\u001b[0;34m(\u001b[0m\u001b[0mops\u001b[0m\u001b[0;34m.\u001b[0m\u001b[0mexpand_dims\u001b[0m\u001b[0;34m(\u001b[0m\u001b[0mx\u001b[0m\u001b[0;34m,\u001b[0m \u001b[0maxis\u001b[0m\u001b[0;34m=\u001b[0m\u001b[0;34m-\u001b[0m\u001b[0;36m1\u001b[0m\u001b[0;34m)\u001b[0m\u001b[0;34m)\u001b[0m\u001b[0;34m\u001b[0m\u001b[0;34m\u001b[0m\u001b[0m\n\u001b[1;32m    271\u001b[0m                     \u001b[0;32mcontinue\u001b[0m\u001b[0;34m\u001b[0m\u001b[0;34m\u001b[0m\u001b[0m\n\u001b[0;32m--> 272\u001b[0;31m             raise ValueError(\n\u001b[0m\u001b[1;32m    273\u001b[0m                 \u001b[0;34mf\"Invalid input shape for input {x}. Expected shape \"\u001b[0m\u001b[0;34m\u001b[0m\u001b[0;34m\u001b[0m\u001b[0m\n\u001b[1;32m    274\u001b[0m                 \u001b[0;34mf\"{ref_shape}, but input has incompatible shape {x.shape}\"\u001b[0m\u001b[0;34m\u001b[0m\u001b[0;34m\u001b[0m\u001b[0m\n",
            "\u001b[0;31mValueError\u001b[0m: Exception encountered when calling Sequential.call().\n\n\u001b[1mInvalid input shape for input Tensor(\"data:0\", shape=(None, 30), dtype=float32). Expected shape (None, 455, 30), but input has incompatible shape (None, 30)\u001b[0m\n\nArguments received by Sequential.call():\n  • inputs=tf.Tensor(shape=(None, 30), dtype=float32)\n  • training=True\n  • mask=None"
          ]
        }
      ]
    },
    {
      "cell_type": "markdown",
      "source": [
        "*model.fit(x_train, y_train, epochs=1000)*\n",
        "\n",
        "Esta linha de código diz ao nosso modelo: \"Agora, comece a treinar!\". É o apito inicial, o começo do \"training montage\" do filme.\n",
        "\n",
        "- *model.fit(...):* O nome da função, .fit(), vem da ideia de \"ajustar\" (to fit) os parâmetros internos do modelo aos dados. É o comando que inicia o ciclo de treinamento.\n",
        "Vamos analisar os \"ingredientes\" que damos para este treino:\n",
        "\n",
        "- 1. x_train: O Material de Estudo (As Perguntas)\n",
        "Este é o primeiro argumento que passamos. É o nosso conjunto de treino com todas as evidências (as características dos tumores).\n",
        "Analogia: Entregamos ao nosso \"aluno-robô\" o livro com todos os exercícios e exemplos que ele precisa estudar.\n",
        "- 2. y_train: O Gabarito (As Respostas)\n",
        "Este é o segundo argumento. É o conjunto com os diagnósticos corretos que correspondem a cada exemplo em x_train.\n",
        "Analogia: Junto com o livro de exercícios (x_train), entregamos o gabarito com as respostas corretas (y_train). O aluno usa o gabarito para verificar se está acertando e para corrigir seus erros.\n",
        "- 3. epochs=1000: A Duração do Treino (Repetição)\n",
        "Este é um dos parâmetros mais importantes do treinamento.\n",
        "- O que é uma \"Época\" (Epoch)? Uma época significa uma passada completa por todo o material de estudo. Se o nosso x_train tem 455 amostras, uma época termina quando o modelo viu todas as 455 amostras uma vez.\n",
        "- Por que 1000? Estamos dizendo ao nosso modelo para estudar o material de treino completo 1000 vezes. A cada vez, ele tenta refinar um pouco mais seu conhecimento. O aprendizado de uma rede neural é um processo gradual e repetitivo. Ela não aprende tudo de uma vez. A cada época, ela ajusta seus pesos para tentar diminuir a loss (o erro) e aumentar a accuracy (a acurácia).\n",
        "- Analogia: epochs=1000 é como dizer ao atleta para fazer sua rotina de treino completa (correr, pular, levantar pesos) 1000 vezes até a competição. A cada repetição, ele fica um pouco mais forte, mais rápido e mais preciso.\n",
        "\n",
        "---\n",
        "\n",
        "# Mas por que 1000 epochs?\n",
        "- A resposta curta é: Você treina o suficiente para o modelo aprender os padrões, mas para ANTES que ele comece a decorar o material de estudo. Iremos falar sobre isso no final desse código!\n",
        "\n",
        "---\n",
        "E agora?\n",
        "\n",
        "-\n",
        "Quando você executar esta linha, verá o treinamento acontecendo em tempo real. O Colab irá mostrar uma barra de progresso para cada uma das 1000 épocas e, ao final de cada uma, exibirá os valores da loss e da accuracy.\n",
        "\n",
        "Idealmente, você verá o valor da loss diminuir e o da accuracy aumentar a cada época, mostrando que seu modelo está, de fato, aprendendo!"
      ],
      "metadata": {
        "id": "srcMp6Z7KkB3"
      },
      "id": "srcMp6Z7KkB3"
    }
  ],
  "metadata": {
    "language_info": {
      "name": "python"
    },
    "colab": {
      "provenance": [],
      "include_colab_link": true
    },
    "kernelspec": {
      "name": "python3",
      "display_name": "Python 3"
    }
  },
  "nbformat": 4,
  "nbformat_minor": 5
}