{
  "cells": [
    {
      "cell_type": "markdown",
      "source": [
        "**01 - Cancer Diagnosis**\n",
        "\n",
        "Bem vindos a nossa primeira atividade do projeto!\n",
        "A tarefa é auxiliar na detecção de cânceres de mama.\n",
        "\n",
        "Nosso objetivo é construir e treinar um \"cérebro\" artificial (uma rede neural) que aprenderá a partir de dados de exames reais. Ao final, este cérebro será capaz de analisar as características de um tumor e prever se ele é maligno (cancerígeno) ou benigno (não cancerígeno).\n",
        "\n",
        "Vamos começar!\n",
        "\n",
        "\n",
        "\n",
        "---\n",
        "\n",
        "**CRÉDITOS**: O código utilizado vem do usuário\n",
        "GitHub: https://github.com/KhanradCoder\n",
        "\n",
        "E seu vídeo explicativo: https://www.youtube.com/watch?v=z1PGJ9quPV8\n",
        "\n",
        "\n",
        "---\n",
        "#   \n",
        "Passo 1: Carregando Nossos Dados 📂\n",
        "- Na pasta dessa primeira atividade há o arquivo cancer.csv, abra-o e clique em \"Download Raw File\" na parte superior\n",
        "- Aqui dentro da página do Colab, clique no ícone de pasta \"File\" e clique no botão \"Upload to session storage\"\n",
        "\n",
        "Com os dados inseridos, agora podemos manipulá-los! Tudo começa com os dados. Nesses dados, cada linha representa um tumor e cada coluna uma característica medida (raio, textura, etc.).\n",
        "\n",
        "---\n",
        "\n",
        "Passo 2: Criando o Dataset\n"
      ],
      "metadata": {
        "id": "hKT8lOWwvnUw"
      },
      "id": "hKT8lOWwvnUw"
    },
    {
      "cell_type": "code",
      "source": [
        "import pandas as pd\n",
        "\n",
        "dataset = pd.read_csv('cancer.csv')"
      ],
      "metadata": {
        "id": "7hNier8H59Dr"
      },
      "id": "7hNier8H59Dr",
      "execution_count": 1,
      "outputs": []
    },
    {
      "cell_type": "markdown",
      "source": [
        "*import pandas as pd*\n",
        "\n",
        "- O que ela faz? Ela importa uma \"biblioteca\" (uma caixa de ferramentas de código) chamada *pandas* para o nosso ambiente de trabalho.\n",
        "\n",
        "- A biblioteca *pandas* é a ferramenta mais famosa e poderosa do Python para manipulação e análise de dados. Ela nos permite ler, limpar, transformar e entender dados de forma eficiente, especialmente dados em formato de tabela, como os de uma planilha do Excel.\n",
        "- *as pd* é um apelido (em inglês, alias). Programadores gostam de ser eficientes. Em vez de escrever *pandas* toda vez que precisarmos usar uma de suas ferramentas, a comunidade global de Python concordou em usar o apelido *pd*\n",
        "\n",
        "Analogia: a biblioteca *pandas* é uma caixa de ferramentas e *pd* é um apelido para da caixa de ferramentas, para acharmos as ferramentas mais facilmente\n",
        "\n",
        "---\n",
        "\n",
        "*dataset = pd.read_csv('cancer.csv')*\n",
        "- O que ela faz? Esta linha lê o arquivo cancer.csv e carrega todo o seu conteúdo para dentro de uma variável chamada dataset.\n",
        "- pd.read_csv(...): Aqui estamos usando a ferramenta *read_csv* da nossa caixa pd. O nome é autoexplicativo: ela é especializada em ler arquivos CSV (Comma-Separated Values), que é o formato de planilha mais comum do mundo, onde os valores são separados por vírgulas. No caso, ele está lendo *cancer.csv*\n",
        "- dataset =: O resultado da leitura não pode ficar solto. Nós o \"guardamos\" ou \"atribuímos\" a uma variável chamada dataset. Agora, a variável dataset contém todos os dados do arquivo, organizados em uma estrutura de tabela super poderosa que o pandas chama de DataFrame.\n",
        "\n",
        "---\n",
        "\n",
        "Passo 3: Separando X e Y"
      ],
      "metadata": {
        "id": "w0BRu3GP6A4w"
      },
      "id": "w0BRu3GP6A4w"
    },
    {
      "cell_type": "code",
      "source": [
        "x = dataset.drop(columns=[\"diagnosis(1=m, 0=b)\"])\n",
        "\n",
        "y = dataset[\"diagnosis(1=m, 0=b)\"]"
      ],
      "metadata": {
        "id": "pGhmzLtT8sxj"
      },
      "id": "pGhmzLtT8sxj",
      "execution_count": 2,
      "outputs": []
    }
  ],
  "metadata": {
    "language_info": {
      "name": "python"
    },
    "colab": {
      "provenance": []
    },
    "kernelspec": {
      "name": "python3",
      "display_name": "Python 3"
    }
  },
  "nbformat": 4,
  "nbformat_minor": 5
}